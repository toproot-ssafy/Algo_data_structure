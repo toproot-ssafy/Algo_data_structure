{
 "cells": [
  {
   "cell_type": "markdown",
   "id": "eb3d2431",
   "metadata": {},
   "source": [
    "# 주피터 노트북 사용법\n",
    "- a(상단부에 셀 만들기), b(하단부에 셀 만들기), shift+enter(실행)"
   ]
  },
  {
   "cell_type": "code",
   "execution_count": null,
   "id": "01e6b7f6",
   "metadata": {},
   "outputs": [],
   "source": []
  },
  {
   "cell_type": "code",
   "execution_count": null,
   "id": "94d9c9f5",
   "metadata": {},
   "outputs": [],
   "source": []
  }
 ],
 "metadata": {
  "kernelspec": {
   "display_name": "Python 3",
   "language": "python",
   "name": "python3"
  },
  "language_info": {
   "codemirror_mode": {
    "name": "ipython",
    "version": 3
   },
   "file_extension": ".py",
   "mimetype": "text/x-python",
   "name": "python",
   "nbconvert_exporter": "python",
   "pygments_lexer": "ipython3",
   "version": "3.8.8"
  }
 },
 "nbformat": 4,
 "nbformat_minor": 5
}
